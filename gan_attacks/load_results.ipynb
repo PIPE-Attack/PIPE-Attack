{
 "cells": [
  {
   "cell_type": "markdown",
   "metadata": {},
   "source": [
    "This depracated notebook loads the classification accuracy of the GMI and KED-MI reconstructed images. See load_asr.ipynb to load ASR results. "
   ]
  },
  {
   "cell_type": "code",
   "execution_count": 1,
   "metadata": {},
   "outputs": [],
   "source": [
    "import numpy as np"
   ]
  },
  {
   "cell_type": "markdown",
   "metadata": {},
   "source": [
    "# Load GMI results"
   ]
  },
  {
   "cell_type": "markdown",
   "metadata": {},
   "source": [
    "## MRP results"
   ]
  },
  {
   "cell_type": "code",
   "execution_count": null,
   "metadata": {},
   "outputs": [],
   "source": [
    "res_all_d = np.load(\"/home/ubuntu/PIPE-Attack/gan_attacks/GMI/attack_res/celeba/reg/mrp_d/res_all.npy\")\n",
    "res_all_s = np.load(\"/home/ubuntu/PIPE-Attack/gan_attacks/GMI/attack_res/celeba/reg/mrp_s/res_all.npy\")"
   ]
  },
  {
   "cell_type": "code",
   "execution_count": null,
   "metadata": {},
   "outputs": [],
   "source": [
    "acc, acc_5, acc_var, acc_var5= res_all_s.mean(0)\n",
    "print(acc)\n",
    "print(\"Acc:{:.2f}\\tAcc_5:{:.2f}\\tAcc_var:{:.4f}\\tacc_var5{:.4f}\".format(acc, acc_5, acc_var, acc_var5))\n"
   ]
  },
  {
   "cell_type": "code",
   "execution_count": null,
   "metadata": {},
   "outputs": [],
   "source": [
    "acc, acc_5, acc_var, acc_var5= res_all_d.mean(0)\n",
    "print(acc)\n",
    "print(\"Acc:{:.2f}\\tAcc_5:{:.2f}\\tAcc_var:{:.4f}\\tacc_var5{:.4f}\".format(acc, acc_5, acc_var, acc_var5))"
   ]
  },
  {
   "cell_type": "markdown",
   "metadata": {},
   "source": [
    "## FE results"
   ]
  },
  {
   "cell_type": "code",
   "execution_count": null,
   "metadata": {},
   "outputs": [],
   "source": [
    "res_all_s = np.load(\"/home/ubuntu/PIPE-Attack/gan_attacks/GMI/attack_res/celeba/reg/fe_s/res_all.npy\")\n",
    "res_all_d = np.load(\"/home/ubuntu/PIPE-Attack/gan_attacks/GMI/attack_res/celeba/reg/fe_d/res_all.npy\")"
   ]
  },
  {
   "cell_type": "code",
   "execution_count": null,
   "metadata": {},
   "outputs": [],
   "source": [
    "acc, acc_5, acc_var, acc_var5= res_all_s.mean(0)\n",
    "print(acc)\n",
    "print(\"Acc:{:.2f}\\tAcc_5:{:.2f}\\tAcc_var:{:.4f}\\tacc_var5{:.4f}\".format(acc, acc_5, acc_var, acc_var5))\n"
   ]
  },
  {
   "cell_type": "code",
   "execution_count": null,
   "metadata": {},
   "outputs": [],
   "source": [
    "acc, acc_5, acc_var, acc_var5= res_all_d.mean(0)\n",
    "print(acc)\n",
    "print(\"Acc:{:.2f}\\tAcc_5:{:.2f}\\tAcc_var:{:.4f}\\tacc_var5{:.4f}\".format(acc, acc_5, acc_var, acc_var5))"
   ]
  },
  {
   "cell_type": "markdown",
   "metadata": {},
   "source": [
    "# Load DMI results"
   ]
  },
  {
   "cell_type": "markdown",
   "metadata": {},
   "source": [
    "## MRP results"
   ]
  },
  {
   "cell_type": "code",
   "execution_count": null,
   "metadata": {},
   "outputs": [],
   "source": [
    "res_s = np.load(\"/home/ubuntu/PIPE-Attack/gan_attacks/DMI/attack_res/celeba/reg/mrp_s/res.npy\")\n",
    "aver_acc, aver_acc5, aver_var, aver_var5 = res_s\n",
    "print(aver_acc) "
   ]
  },
  {
   "cell_type": "code",
   "execution_count": null,
   "metadata": {},
   "outputs": [],
   "source": [
    "res_d = np.load(\"/home/ubuntu/PIPE-Attack/gan_attacks/DMI/attack_res/celeba/reg/mrp_d/res.npy\")\n",
    "aver_acc, aver_acc5, aver_var, aver_var5 = res_d\n",
    "print(aver_acc) "
   ]
  },
  {
   "cell_type": "markdown",
   "metadata": {},
   "source": [
    "## FE results"
   ]
  },
  {
   "cell_type": "code",
   "execution_count": null,
   "metadata": {},
   "outputs": [],
   "source": [
    "res_s = np.load(\"/home/ubuntu/PIPE-Attack/gan_attacks/DMI/attack_res/celeba/reg/fe_s/res.npy\")\n",
    "aver_acc, aver_acc5, aver_var, aver_var5 = res_s\n",
    "print(aver_acc) "
   ]
  },
  {
   "cell_type": "code",
   "execution_count": null,
   "metadata": {},
   "outputs": [],
   "source": [
    "res_d = np.load(\"/home/ubuntu/PIPE-Attack/gan_attacks/DMI/attack_res/celeba/reg/fe_d/res.npy\")\n",
    "aver_acc, aver_acc5, aver_var, aver_var5 = res_d\n",
    "print(aver_acc) "
   ]
  }
 ],
 "metadata": {
  "kernelspec": {
   "display_name": "ddpm",
   "language": "python",
   "name": "python3"
  },
  "language_info": {
   "codemirror_mode": {
    "name": "ipython",
    "version": 3
   },
   "file_extension": ".py",
   "mimetype": "text/x-python",
   "name": "python",
   "nbconvert_exporter": "python",
   "pygments_lexer": "ipython3",
   "version": "3.10.13"
  }
 },
 "nbformat": 4,
 "nbformat_minor": 2
}
