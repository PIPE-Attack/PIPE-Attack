{
 "cells": [
  {
   "cell_type": "markdown",
   "metadata": {},
   "source": [
    "# Generate 1000 different A's and b's for FE embeddings\n",
    "\n",
    "These A matrices and b vectors are generated beforehand to save time. They will be used by target models that generate FE embeddings. "
   ]
  },
  {
   "cell_type": "code",
   "execution_count": 4,
   "metadata": {},
   "outputs": [],
   "source": [
    "import numpy as np\n",
    "import os"
   ]
  },
  {
   "cell_type": "code",
   "execution_count": null,
   "metadata": {},
   "outputs": [],
   "source": [
    "dirA = \"/home/ubuntu/PIPE-Attack/gan_attacks/attack_dataset/CelebA/DiffAs\"\n",
    "dirb = \"/home/ubuntu/PIPE-Attack/gan_attacks/attack_dataset/CelebA/Diffbs\"\n",
    "os.makedirs(dirA, exist_ok=True)\n",
    "os.makedirs(dirb, exist_ok=True)"
   ]
  },
  {
   "cell_type": "code",
   "execution_count": null,
   "metadata": {},
   "outputs": [],
   "source": [
    "# hardcoded information\n",
    "eig_vecs = np.load(\"/home/ubuntu/PIPE-Attack/helpers/eig_vecs_data_facenet.npy\") \n",
    "eig_vals = np.load(\"/home/ubuntu/PIPE-Attack/helpers/eig_vals_data_facenet.npy\")\n",
    "k = sum(1 if val>1 else 0 for val in eig_vals )\n",
    "assert(k==49)\n",
    "min_proj = -20\n",
    "max_proj = 20\n",
    "q = 130003 # arbitrary prime number\n",
    "\n",
    "# representation function\n",
    "def zq_A(q, m, n):\n",
    "    A = np.random.rand(m, n)\n",
    "    return np.floor(A * q).astype(int) % q\n",
    "\n",
    "def zq_b(q, n):\n",
    "    b = np.random.rand(n)\n",
    "    return np.floor(b * q).astype(int) % q\n",
    "\n",
    "input_dim = 512\n",
    "output_dim = 128"
   ]
  },
  {
   "cell_type": "code",
   "execution_count": 7,
   "metadata": {},
   "outputs": [],
   "source": [
    "np.random.seed(1740470466)\n",
    "for iden in range(1000):\n",
    "    A = zq_A(q, input_dim, output_dim)\n",
    "    b = zq_b(q, output_dim)\n",
    "    np.save(f\"{dirA}/{iden}.npy\", A)\n",
    "    np.save(f\"{dirb}/{iden}.npy\", b)"
   ]
  }
 ],
 "metadata": {
  "kernelspec": {
   "display_name": "ddpm",
   "language": "python",
   "name": "python3"
  },
  "language_info": {
   "codemirror_mode": {
    "name": "ipython",
    "version": 3
   },
   "file_extension": ".py",
   "mimetype": "text/x-python",
   "name": "python",
   "nbconvert_exporter": "python",
   "pygments_lexer": "ipython3",
   "version": "3.10.13"
  }
 },
 "nbformat": 4,
 "nbformat_minor": 2
}
