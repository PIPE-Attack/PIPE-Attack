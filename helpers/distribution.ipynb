{
 "cells": [
  {
   "cell_type": "markdown",
   "metadata": {},
   "source": [
    "# Generate dataset eigenvalues\n",
    "\n",
    "Computed on FFHQ dataset."
   ]
  },
  {
   "cell_type": "code",
   "execution_count": 1,
   "metadata": {},
   "outputs": [],
   "source": [
    "import os\n",
    "import numpy as np"
   ]
  },
  {
   "cell_type": "markdown",
   "metadata": {},
   "source": [
    "## Facenet embeddings"
   ]
  },
  {
   "cell_type": "code",
   "execution_count": null,
   "metadata": {},
   "outputs": [],
   "source": [
    "input_folder = '../datasets/ffhq_facenet_pp'\n",
    "mode = 'test'\n",
    "f = 'embeddings'\n",
    "embedding_list = os.listdir(os.path.join(input_folder, mode, f))"
   ]
  },
  {
   "cell_type": "code",
   "execution_count": 11,
   "metadata": {},
   "outputs": [
    {
     "name": "stdout",
     "output_type": "stream",
     "text": [
      "(10000, 512)\n",
      "min val: -4.7213850021362305 max val: 4.832281112670898 mean val: 0.026470264520070647 var val: 1.039479185103472\n"
     ]
    }
   ],
   "source": [
    "vectors = np.array([np.load(os.path.join(input_folder, mode, f, e)) for e in embedding_list]); print(vectors.shape)\n",
    "print('min val:', np.min(vectors), 'max val:', np.max(vectors), 'mean val:', np.mean(vectors), 'var val:', np.var(vectors))"
   ]
  },
  {
   "cell_type": "code",
   "execution_count": 12,
   "metadata": {},
   "outputs": [
    {
     "name": "stdout",
     "output_type": "stream",
     "text": [
      "(512, 512)\n",
      "(512,) (512, 512) [33.18555524 23.3192489  21.9783544  18.31622811 17.8853851 ]\n"
     ]
    }
   ],
   "source": [
    "cov = np.cov(vectors, rowvar=False); print(cov.shape)\n",
    "eig_vals, eig_vecs = np.linalg.eig(cov); print(eig_vals.shape, eig_vecs.shape, eig_vals[:5])"
   ]
  },
  {
   "cell_type": "code",
   "execution_count": 13,
   "metadata": {},
   "outputs": [],
   "source": [
    "projected_vectors = vectors @ eig_vecs"
   ]
  },
  {
   "cell_type": "code",
   "execution_count": 14,
   "metadata": {},
   "outputs": [
    {
     "name": "stdout",
     "output_type": "stream",
     "text": [
      "min val: -18.295733549101055 max val: 18.26638209549201 mean val: -0.0018364245712065679 var val: 1.0401764875520247\n"
     ]
    }
   ],
   "source": [
    "print('min val:', np.min(projected_vectors), 'max val:', np.max(projected_vectors), 'mean val:', np.mean(projected_vectors), 'var val:', np.var(projected_vectors))"
   ]
  },
  {
   "cell_type": "code",
   "execution_count": 15,
   "metadata": {},
   "outputs": [
    {
     "name": "stdout",
     "output_type": "stream",
     "text": [
      "values < -19: 0 values > 18: 0\n"
     ]
    }
   ],
   "source": [
    "print('values < -19:', np.sum(projected_vectors < -19), 'values > 18:', np.sum(projected_vectors > 19))"
   ]
  },
  {
   "cell_type": "code",
   "execution_count": null,
   "metadata": {},
   "outputs": [],
   "source": [
    "np.save(\"eig_vals_data_facenet.npy\", eig_vals)\n",
    "np.save(\"eig_vecs_data_facenet.npy\", eig_vecs)"
   ]
  },
  {
   "cell_type": "markdown",
   "metadata": {},
   "source": [
    "## ArcFace embeddings"
   ]
  },
  {
   "cell_type": "code",
   "execution_count": null,
   "metadata": {},
   "outputs": [],
   "source": [
    "input_folder = '../datasets/ffhq_arcface_pp'\n",
    "mode = 'test'\n",
    "f = 'embeddings'\n",
    "embedding_list = os.listdir(os.path.join(input_folder, mode, f))"
   ]
  },
  {
   "cell_type": "code",
   "execution_count": 5,
   "metadata": {},
   "outputs": [
    {
     "name": "stdout",
     "output_type": "stream",
     "text": [
      "(10000, 512)\n",
      "min val: -3.2219748497009277 max val: 2.17751407623291 mean val: -0.0009529169996271079 var val: 0.030427157689294604\n"
     ]
    }
   ],
   "source": [
    "vectors = np.array([np.load(os.path.join(input_folder, mode, f, e)) for e in embedding_list]); print(vectors.shape)\n",
    "print('min val:', np.min(vectors), 'max val:', np.max(vectors), 'mean val:', np.mean(vectors), 'var val:', np.var(vectors))"
   ]
  },
  {
   "cell_type": "code",
   "execution_count": 6,
   "metadata": {},
   "outputs": [
    {
     "name": "stdout",
     "output_type": "stream",
     "text": [
      "(512, 512)\n",
      "(512,) (512, 512) [0.55726496 0.38105004 0.31796732 0.28709383 0.2690981 ]\n"
     ]
    }
   ],
   "source": [
    "cov = np.cov(vectors, rowvar=False); print(cov.shape)\n",
    "eig_vals, eig_vecs = np.linalg.eig(cov); print(eig_vals.shape, eig_vecs.shape, eig_vals[:5])"
   ]
  },
  {
   "cell_type": "code",
   "execution_count": 7,
   "metadata": {},
   "outputs": [],
   "source": [
    "projected_vectors = vectors @ eig_vecs"
   ]
  },
  {
   "cell_type": "code",
   "execution_count": 8,
   "metadata": {},
   "outputs": [
    {
     "name": "stdout",
     "output_type": "stream",
     "text": [
      "min val: -15.303944718562668 max val: 2.721814625375356 mean val: -0.003205913864858215 var val: 0.030417787856393926\n"
     ]
    }
   ],
   "source": [
    "print('min val:', np.min(projected_vectors), 'max val:', np.max(projected_vectors), 'mean val:', np.mean(projected_vectors), 'var val:', np.var(projected_vectors))"
   ]
  },
  {
   "cell_type": "code",
   "execution_count": 9,
   "metadata": {},
   "outputs": [
    {
     "name": "stdout",
     "output_type": "stream",
     "text": [
      "values < -19: 0 values > 18: 0\n"
     ]
    }
   ],
   "source": [
    "print('values < -19:', np.sum(projected_vectors < -19), 'values > 18:', np.sum(projected_vectors > 19))"
   ]
  },
  {
   "cell_type": "code",
   "execution_count": 10,
   "metadata": {},
   "outputs": [],
   "source": [
    "np.save(\"eig_vals_data_arcface.npy\", eig_vals)\n",
    "np.save(\"eig_vecs_data_arcface.npy\", eig_vecs)"
   ]
  }
 ],
 "metadata": {
  "kernelspec": {
   "display_name": "deepface",
   "language": "python",
   "name": "python3"
  },
  "language_info": {
   "codemirror_mode": {
    "name": "ipython",
    "version": 3
   },
   "file_extension": ".py",
   "mimetype": "text/x-python",
   "name": "python",
   "nbconvert_exporter": "python",
   "pygments_lexer": "ipython3",
   "version": "3.10.15"
  }
 },
 "nbformat": 4,
 "nbformat_minor": 2
}
